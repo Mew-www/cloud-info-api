{
 "cells": [
  {
   "cell_type": "code",
   "execution_count": 164,
   "metadata": {},
   "outputs": [],
   "source": [
    "import requests\n",
    "from bs4 import BeautifulSoup\n",
    "import logging\n",
    "import re\n",
    "\n",
    "logger = logging.getLogger(__name__)"
   ]
  },
  {
   "cell_type": "markdown",
   "metadata": {},
   "source": [
    "# Retrieving cert details"
   ]
  },
  {
   "cell_type": "code",
   "execution_count": 165,
   "metadata": {},
   "outputs": [],
   "source": [
    "r = requests.get(\"https://docs.microsoft.com/en-us/learn/certifications/azure-database-administrator-associate\")\n",
    "parsed_html = BeautifulSoup(r.content, \"html.parser\")"
   ]
  },
  {
   "cell_type": "code",
   "execution_count": 166,
   "metadata": {},
   "outputs": [],
   "source": [
    "def get_title(html):\n",
    "    # Seek element\n",
    "    title_els = html.find_all(\"h1\", {\"class\": \"title\"})\n",
    "    if len(title_els) > 1:\n",
    "        raise ValueError(\"Found multiple title elements\")\n",
    "    if not title_els:\n",
    "        raise ValueError(\"Didn't find title element\")\n",
    "    # Seek content\n",
    "    title = title_els[0].string\n",
    "    if not title:\n",
    "        raise ValueError(\"Title was empty\")\n",
    "    return title\n",
    "\n",
    "def get_summary_hilights(html):\n",
    "    # Seek summary element\n",
    "    summary_els = html.find_all(\"div\", {\"class\": \"summary\"})\n",
    "    if len(summary_els) > 1:\n",
    "        raise ValueError(\"Found multiple summary elements\")\n",
    "    if not summary_els:\n",
    "        raise ValueError(\"Didn't find summary element\")\n",
    "    # Seek any (optional) hilights\n",
    "    hilight_els = summary_els[0].find_all(\"strong\")\n",
    "    hilight_parents = [el.parent for el in hilight_els if el.parent.strings]\n",
    "    hilights_with_links = [\n",
    "        {\n",
    "            \"content\": \"\".join(el.strings),\n",
    "            \"links\": [{\"text\": \"\".join(a.strings), \"url\": a[\"href\"]} for a in el.find_all(\"a\")] \n",
    "        }\n",
    "        for el in hilight_parents\n",
    "    ]\n",
    "    return hilights_with_links\n",
    "\n",
    "def get_skills_measured_topics(html):\n",
    "    # Seek heading element (right before topics)\n",
    "    heading_string = \"Skills measured\"\n",
    "    heading_els = html.find_all(\"h3\", string=heading_string)\n",
    "    if len(heading_els) > 1:\n",
    "        raise ValueError(\"Found multiple headings with text \"+heading_string)\n",
    "    if not heading_els:\n",
    "        raise ValueError(\"Didn't find heading with \"+heading_string)\n",
    "    # Seek topics\n",
    "    topics_el = heading_els[0].find_next_sibling(\"div\")\n",
    "    if not topics_el:\n",
    "        raise ValueError(\"Didn't find next sibling containing actual 'skills measured' topics\")\n",
    "    # Filter out notes if exist (present in some pages, in some not)\n",
    "    topics = [t for t in topics_el.stripped_strings if \"This list is not definitive or exhaustive\" not in t]\n",
    "    return topics\n",
    "\n",
    "def get_skills_measured_link(html):\n",
    "    # Seek element\n",
    "    link_string = \"skills outline\"\n",
    "    link_els = html.find_all(lambda tag: tag.name == \"a\" and link_string in \"\".join(tag.strings))\n",
    "    if len(link_els) > 1:\n",
    "        raise ValueError(\"Found multiple links with \"+link_string)\n",
    "    if not link_els:\n",
    "        raise ValueError(\"Didn't find link with \"+link_string)\n",
    "    return link_els[0][\"href\"]"
   ]
  },
  {
   "cell_type": "code",
   "execution_count": 167,
   "metadata": {},
   "outputs": [
    {
     "data": {
      "text/plain": [
       "'Microsoft Certified: Azure Database Administrator Associate'"
      ]
     },
     "execution_count": 167,
     "metadata": {},
     "output_type": "execute_result"
    }
   ],
   "source": [
    "get_title(parsed_html)"
   ]
  },
  {
   "cell_type": "code",
   "execution_count": 168,
   "metadata": {},
   "outputs": [
    {
     "data": {
      "text/plain": [
       "[{'content': 'In response to the coronavirus (COVID-19) situation, Microsoft is implementing several temporary changes to our training and certification program. Learn more.',\n",
       "  'links': [{'text': 'Learn more',\n",
       "    'url': 'https://www.microsoft.com/en-us/learning/community-blog-post.aspx?BlogId=8&Id=375289'}]}]"
      ]
     },
     "execution_count": 168,
     "metadata": {},
     "output_type": "execute_result"
    }
   ],
   "source": [
    "get_summary_hilights(parsed_html)"
   ]
  },
  {
   "cell_type": "code",
   "execution_count": 169,
   "metadata": {},
   "outputs": [
    {
     "data": {
      "text/plain": [
       "['Plan and implement data platform resources',\n",
       " 'Implement a secure environment',\n",
       " 'Monitor and optimize operational resources',\n",
       " 'Optimize query performance',\n",
       " 'Perform automation of tasks',\n",
       " 'Plan and implement a High Availability and Disaster Recovery (HADR) environment',\n",
       " 'Perform administration by using T-SQL']"
      ]
     },
     "execution_count": 169,
     "metadata": {},
     "output_type": "execute_result"
    }
   ],
   "source": [
    "get_skills_measured_topics(parsed_html)"
   ]
  },
  {
   "cell_type": "code",
   "execution_count": 170,
   "metadata": {},
   "outputs": [
    {
     "data": {
      "text/plain": [
       "'https://query.prod.cms.rt.microsoft.com/cms/api/am/binary/RE4qjf6'"
      ]
     },
     "execution_count": 170,
     "metadata": {},
     "output_type": "execute_result"
    }
   ],
   "source": [
    "get_skills_measured_link(parsed_html)"
   ]
  },
  {
   "cell_type": "markdown",
   "metadata": {},
   "source": [
    "# Retrieving exam details"
   ]
  },
  {
   "cell_type": "code",
   "execution_count": 171,
   "metadata": {},
   "outputs": [],
   "source": [
    "r = requests.get(\"https://docs.microsoft.com/en-us/learn/certifications/exams/az-220\")\n",
    "parsed_html = BeautifulSoup(r.content, \"html.parser\")"
   ]
  },
  {
   "cell_type": "code",
   "execution_count": 176,
   "metadata": {},
   "outputs": [],
   "source": [
    "def get_title(html):\n",
    "    # Seek element\n",
    "    title_els = html.find_all(lambda tag: tag.name == \"h1\" and \"Exam \" in \"\".join(tag.strings) and \": \" in \"\".join(tag.strings))\n",
    "    if len(title_els) > 1:\n",
    "        raise ValueError(\"Found multiple title elements\")\n",
    "    if not title_els:\n",
    "        raise ValueError(\"Didn't find title element\")\n",
    "    # Seek content\n",
    "    title = title_els[0].string\n",
    "    if not title:\n",
    "        raise ValueError(\"Title was empty\")\n",
    "    return title\n",
    "\n",
    "def get_summary_hilights(html):\n",
    "    # Seek summary element\n",
    "    summary_els = html.find_all(\"div\", {\"class\": \"summary\"})\n",
    "    if len(summary_els) > 1:\n",
    "        raise ValueError(\"Found multiple summary elements\")\n",
    "    if not summary_els:\n",
    "        raise ValueError(\"Didn't find summary element\")\n",
    "    # Seek any (optional) hilights\n",
    "    hilight_els = summary_els[0].find_all(\"strong\")\n",
    "    hilight_parents = [el.parent for el in hilight_els if el.parent.strings]\n",
    "    hilights_with_links = [\n",
    "        {\n",
    "            \"content\": \"\".join(el.strings),\n",
    "            \"links\": [{\"text\": \"\".join(a.strings), \"url\": a[\"href\"]} for a in el.find_all(\"a\")] \n",
    "        }\n",
    "        for el in hilight_parents\n",
    "    ]\n",
    "    return hilights_with_links\n",
    "\n",
    "def get_skills_measured_topics(html):\n",
    "    # Seek heading element (right before topics)\n",
    "    heading_string = \"Skills measured\"\n",
    "    heading_els = html.find_all(\"h2\", string=heading_string)\n",
    "    if len(heading_els) > 1:\n",
    "        raise ValueError(\"Found multiple headings with text \"+heading_string)\n",
    "    if not heading_els:\n",
    "        raise ValueError(\"Didn't find heading with \"+heading_string)\n",
    "    # Seek topics\n",
    "    topics_el = heading_els[0].find_next_sibling(\"div\")\n",
    "    if not topics_el:\n",
    "        raise ValueError(\"Didn't find next sibling containing actual 'skills measured' topics\")\n",
    "    # Filter out notes if exist (present in some pages, in some not)\n",
    "    topics = [t for t in topics_el.stripped_strings if \"This list is not definitive or exhaustive\" not in t]\n",
    "    return topics\n",
    "\n",
    "def get_skills_measured_link(html):\n",
    "    # Seek element\n",
    "    link_string = \"skills outline\"\n",
    "    link_els = html.find_all(lambda tag: tag.name == \"a\" and link_string in \"\".join(tag.strings))\n",
    "    if len(link_els) > 1:\n",
    "        raise ValueError(\"Found multiple links with \"+link_string)\n",
    "    if not link_els:\n",
    "        raise ValueError(\"Didn't find link with \"+link_string)\n",
    "    return link_els[0][\"href\"]"
   ]
  },
  {
   "cell_type": "code",
   "execution_count": 173,
   "metadata": {},
   "outputs": [
    {
     "data": {
      "text/plain": [
       "'Exam AZ-220: Microsoft Azure IoT Developer (beta)'"
      ]
     },
     "execution_count": 173,
     "metadata": {},
     "output_type": "execute_result"
    }
   ],
   "source": [
    "get_title(parsed_html)"
   ]
  },
  {
   "cell_type": "code",
   "execution_count": 175,
   "metadata": {},
   "outputs": [
    {
     "data": {
      "text/plain": [
       "[{'content': 'In response to the coronavirus (COVID-19) situation, Microsoft is implementing several temporary changes to our training and certification program. Learn more.',\n",
       "  'links': [{'text': 'Learn more',\n",
       "    'url': 'https://www.microsoft.com/en-us/learning/community-blog-post.aspx?BlogId=8&Id=375289'}]},\n",
       " {'content': 'Beta exams are not scored immediately because we are gathering data on the quality of the questions and the exam. Learn more about the value and importance of beta exams.',\n",
       "  'links': [{'text': 'about the value and importance of beta exams',\n",
       "    'url': '/en-us/learn/certifications/certification-exams#participating-in-beta-exams'}]}]"
      ]
     },
     "execution_count": 175,
     "metadata": {},
     "output_type": "execute_result"
    }
   ],
   "source": [
    "get_summary_hilights(parsed_html)"
   ]
  },
  {
   "cell_type": "code",
   "execution_count": 177,
   "metadata": {},
   "outputs": [
    {
     "data": {
      "text/plain": [
       "['Implement the IoT solution infrastructure (15-20%)',\n",
       " 'Provision and manage devices (20-25%)',\n",
       " 'Implement Edge (15-20%)',\n",
       " 'Process and manage data (15-20%)',\n",
       " 'Monitor, troubleshoot, and optimize IoT solutions (15-20%)',\n",
       " 'Implement security (15-20%)']"
      ]
     },
     "execution_count": 177,
     "metadata": {},
     "output_type": "execute_result"
    }
   ],
   "source": [
    "get_skills_measured_topics(parsed_html)"
   ]
  },
  {
   "cell_type": "code",
   "execution_count": 178,
   "metadata": {},
   "outputs": [
    {
     "data": {
      "text/plain": [
       "'https://query.prod.cms.rt.microsoft.com/cms/api/am/binary/RE4nBeC'"
      ]
     },
     "execution_count": 178,
     "metadata": {},
     "output_type": "execute_result"
    }
   ],
   "source": [
    "get_skills_measured_link(parsed_html)"
   ]
  },
  {
   "cell_type": "code",
   "execution_count": null,
   "metadata": {},
   "outputs": [],
   "source": []
  }
 ],
 "metadata": {
  "kernelspec": {
   "display_name": "Python 3",
   "language": "python",
   "name": "python3"
  },
  "language_info": {
   "codemirror_mode": {
    "name": "ipython",
    "version": 3
   },
   "file_extension": ".py",
   "mimetype": "text/x-python",
   "name": "python",
   "nbconvert_exporter": "python",
   "pygments_lexer": "ipython3",
   "version": "3.8.2"
  }
 },
 "nbformat": 4,
 "nbformat_minor": 4
}
